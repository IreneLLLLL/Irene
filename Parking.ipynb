{
 "cells": [
  {
   "cell_type": "code",
   "execution_count": 51,
   "id": "40060984-a808-4e2a-b2cd-326bb8cadcd3",
   "metadata": {},
   "outputs": [],
   "source": [
    "import pandas as pd"
   ]
  },
  {
   "cell_type": "markdown",
   "id": "e8c7300e-ba84-4e85-b15b-40432698037b",
   "metadata": {},
   "source": [
    "#### Import the dataset"
   ]
  },
  {
   "cell_type": "code",
   "execution_count": 52,
   "id": "6f1e7fbb-4a1c-434b-a351-3136fcfb7449",
   "metadata": {},
   "outputs": [
    {
     "name": "stderr",
     "output_type": "stream",
     "text": [
      "/Users/aitingliang/opt/anaconda3/lib/python3.8/site-packages/IPython/core/interactiveshell.py:3165: DtypeWarning: Columns (20,31,32) have mixed types.Specify dtype option on import or set low_memory=False.\n",
      "  has_raised = await self.run_ast_nodes(code_ast.body, cell_name,\n"
     ]
    }
   ],
   "source": [
    "df=pd.read_csv('311_Service_Requests_2020.csv')"
   ]
  },
  {
   "cell_type": "markdown",
   "id": "b3526371-06f7-4846-9660-3520aadab467",
   "metadata": {},
   "source": [
    "##### Analyze whether illegal parking incidents are a larger fraction of total 311 incidents in your ZIP code than they are in general"
   ]
  },
  {
   "cell_type": "code",
   "execution_count": 53,
   "id": "b0c94b77-efa9-49d0-9810-e27578f4bc71",
   "metadata": {},
   "outputs": [],
   "source": [
    "#Pull out data of zipcode:10027\n",
    "df1=df[df['Incident Zip'] == 10027.0]"
   ]
  },
  {
   "cell_type": "code",
   "execution_count": 54,
   "id": "dbb4d07a-7a51-4e23-8e72-177702eb3986",
   "metadata": {},
   "outputs": [],
   "source": [
    "#Compute the total number of parking incidents in zipcode:10027\n",
    "df2=df1[df1[\"Complaint Type\"]=='Illegal Parking']\n",
    "total_parking10027=len(df2.index)"
   ]
  },
  {
   "cell_type": "code",
   "execution_count": 55,
   "id": "211f2811-e71f-4e41-bc41-b11c3f4249ab",
   "metadata": {},
   "outputs": [],
   "source": [
    "#Compute total number of all incidents in zipcode:10027\n",
    "total_incidents10027=len(df1.index)"
   ]
  },
  {
   "cell_type": "code",
   "execution_count": 56,
   "id": "9631de62-54bb-4ed0-a65b-1f97175ebc6b",
   "metadata": {},
   "outputs": [],
   "source": [
    "#Compute Parking Incident rate in zip 10027\n",
    "ziprate=total_parking10027 / total_incidents10027"
   ]
  },
  {
   "cell_type": "code",
   "execution_count": 57,
   "id": "986cebca-2211-4da6-a7aa-e208e4bd6e41",
   "metadata": {},
   "outputs": [],
   "source": [
    "#Compute the total number of global parking incidents \n",
    "df3=df[df[\"Complaint Type\"]=='Illegal Parking']\n",
    "total_parkingglobal=len(df3.index)"
   ]
  },
  {
   "cell_type": "code",
   "execution_count": 58,
   "id": "0da88c14-7996-4659-a9fc-6e14e03117e3",
   "metadata": {},
   "outputs": [],
   "source": [
    "#Compute total number of all incidents \n",
    "total_incidentsglobal=len(df.index)"
   ]
  },
  {
   "cell_type": "code",
   "execution_count": 59,
   "id": "713bdec3-7e16-41b5-b1ad-43fd9937766a",
   "metadata": {},
   "outputs": [],
   "source": [
    "#Compute global Parking Incident rate \n",
    "globalrate=total_parkingglobal/total_incidentsglobal"
   ]
  },
  {
   "cell_type": "code",
   "execution_count": 60,
   "id": "e85d88e8-1c64-4281-b2da-98e8cb9341e9",
   "metadata": {},
   "outputs": [
    {
     "data": {
      "text/plain": [
       "False"
      ]
     },
     "execution_count": 60,
     "metadata": {},
     "output_type": "execute_result"
    }
   ],
   "source": [
    "higher_parking_proportion=ziprate>globalrate\n",
    "higher_parking_proportion"
   ]
  },
  {
   "cell_type": "code",
   "execution_count": null,
   "id": "f6f1e704-9cd9-468a-b6ee-688510ee24e1",
   "metadata": {},
   "outputs": [],
   "source": []
  }
 ],
 "metadata": {
  "kernelspec": {
   "display_name": "Python 3",
   "language": "python",
   "name": "python3"
  },
  "language_info": {
   "codemirror_mode": {
    "name": "ipython",
    "version": 3
   },
   "file_extension": ".py",
   "mimetype": "text/x-python",
   "name": "python",
   "nbconvert_exporter": "python",
   "pygments_lexer": "ipython3",
   "version": "3.8.8"
  }
 },
 "nbformat": 4,
 "nbformat_minor": 5
}
